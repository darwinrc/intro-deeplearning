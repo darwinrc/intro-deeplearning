{
 "cells": [
  {
   "cell_type": "code",
   "execution_count": null,
   "metadata": {},
   "outputs": [],
   "source": [
    "from scipy.io import loadmat\n",
    "import plotly.offline as py\n",
    "import plotly.graph_objs as go\n",
    "import numpy as np\n",
    "import random\n",
    "from sklearn.model_selection import train_test_split\n",
    "py.init_notebook_mode()\n",
    "\n",
    "#importar funcion \"plot\" definida en \"utils.py\"\n",
    "from utils import plot\n",
    "\n",
    "\n",
    "# tensorflow\n",
    "import tensorflow as tf\n",
    "from tensorflow import layers"
   ]
  },
  {
   "cell_type": "code",
   "execution_count": null,
   "metadata": {},
   "outputs": [],
   "source": [
    "#cargar archivo\n",
    "mat = loadmat(\"data/mnist.mat\")\n",
    "mat"
   ]
  },
  {
   "cell_type": "code",
   "execution_count": null,
   "metadata": {},
   "outputs": [],
   "source": [
    "#assignar data\n",
    "x = mat['X']\n",
    "y = mat['y'] % 10\n",
    "\n",
    "\n",
    "x.shape, y.shape"
   ]
  },
  {
   "cell_type": "code",
   "execution_count": null,
   "metadata": {
    "scrolled": false
   },
   "outputs": [],
   "source": [
    "#visualizar archivos algunas muestras\n",
    "for _ in range(1):\n",
    "    n = random.randint(0, len(x) - 1)\n",
    "    title = \"Digit: {}\".format(y[n][0])\n",
    "    plot(x[n], title, width=400, height=400)"
   ]
  },
  {
   "cell_type": "code",
   "execution_count": null,
   "metadata": {
    "collapsed": true
   },
   "outputs": [],
   "source": []
  },
  {
   "cell_type": "code",
   "execution_count": null,
   "metadata": {},
   "outputs": [],
   "source": [
    "class Model(object):\n",
    "    \n",
    "    def __init__(self, learning_rate=0.01):\n",
    "        \n",
    "        self.graph = tf.Graph()\n",
    "        \n",
    "        with self.graph.as_default():\n",
    "            self.x = tf.placeholder(tf.float32, [None, 400])\n",
    "            self.y = tf.placeholder(tf.int64, [None, 1])\n",
    "\n",
    "            net = layers.dense(self.x, 256, activation=tf.nn.relu)\n",
    "            net = layers.dense(net, 128, activation=tf.nn.relu)\n",
    "            net = layers.dense(net, 64, activation=tf.nn.relu)\n",
    "\n",
    "            logits = layers.dense(net, 10, activation=None)\n",
    "\n",
    "            self.h = tf.nn.softmax(logits)\n",
    "            self.prediction = tf.argmax(self.h, axis=1)\n",
    "\n",
    "            labels = tf.one_hot(self.y, 10)\n",
    "            self.loss = tf.nn.softmax_cross_entropy_with_logits(labels=labels, logits=logits)\n",
    "            self.loss = tf.reduce_mean(self.loss)\n",
    "            \n",
    "            self.update = tf.train.AdamOptimizer(learning_rate).minimize(self.loss)\n",
    "            \n",
    "            y1 = tf.expand_dims(tf.argmax(self.h, axis=1), 1)\n",
    "            self.accuracy = tf.equal(y1, self.y)\n",
    "            self.accuracy = tf.cast(self.accuracy, tf.float32)\n",
    "            self.accuracy = tf.reduce_mean(self.accuracy)\n",
    "            \n",
    "            self.sess = tf.Session(graph=self.graph)\n",
    "            self.sess.run(tf.global_variables_initializer())\n",
    "            \n",
    "    \n",
    "            \n",
    "    def fit(self, x, y, epochs=2000, print_interval=100, batch_size=64):\n",
    "        \n",
    "        x_train, x_test, y_train, y_test = train_test_split(x, y, train_size=0.8)\n",
    "        \n",
    "        for step in xrange(epochs):\n",
    "            \n",
    "            idx = random.sample(range(len(x_train)), batch_size)\n",
    "            x_batch, y_batch = x_train[idx], y_train[idx]\n",
    "            \n",
    "            _, loss = self.sess.run([self.update, self.loss], feed_dict={self.x: x_batch, self.y: y_batch})\n",
    "            \n",
    "            if step % print_interval == 0:\n",
    "                accuracy = self.sess.run(self.accuracy, feed_dict={self.x: x_test, self.y: y_test})\n",
    "                print \"loss: {0}, accuracy: {1}\".format(loss, accuracy)\n",
    "                \n",
    "                \n",
    "    def predict(self, x):\n",
    "        return self.sess.run(self.prediction, feed_dict={self.x: x})\n",
    "        \n",
    "        \n",
    "        \n",
    "model = Model()"
   ]
  },
  {
   "cell_type": "code",
   "execution_count": null,
   "metadata": {},
   "outputs": [],
   "source": [
    "model.fit(x, y)"
   ]
  },
  {
   "cell_type": "code",
   "execution_count": null,
   "metadata": {},
   "outputs": [],
   "source": [
    "n = random.randint(0, len(x) - 1)\n",
    "\n",
    "x_sample, y_sample = x[n:n+1, :], y[n][0]\n",
    "\n",
    "prediction = model.predict(x_sample)[0]\n",
    "title = \"Digit: {0}, prediction: {1}\".format(y_sample,prediction)\n",
    "\n",
    "plot(x_sample, title, width=400, height=400)"
   ]
  },
  {
   "cell_type": "code",
   "execution_count": null,
   "metadata": {},
   "outputs": [],
   "source": [
    "%%bash\n",
    "#cat /run_jupyter.sh"
   ]
  }
 ],
 "metadata": {
  "kernelspec": {
   "display_name": "Python 2",
   "language": "python",
   "name": "python2"
  },
  "language_info": {
   "codemirror_mode": {
    "name": "ipython",
    "version": 2
   },
   "file_extension": ".py",
   "mimetype": "text/x-python",
   "name": "python",
   "nbconvert_exporter": "python",
   "pygments_lexer": "ipython2",
   "version": "2.7.13"
  }
 },
 "nbformat": 4,
 "nbformat_minor": 2
}
