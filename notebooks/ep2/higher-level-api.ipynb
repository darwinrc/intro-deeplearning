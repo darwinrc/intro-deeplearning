{
 "cells": [
  {
   "cell_type": "code",
   "execution_count": null,
   "metadata": {
    "collapsed": true
   },
   "outputs": [],
   "source": [
    "import tensorflow as tf"
   ]
  },
  {
   "cell_type": "markdown",
   "metadata": {},
   "source": [
    "### Layers\n",
    "Las redes neuronales se organizan en capas de la forma\n",
    "\n",
    "$h = f(w x + b) $\n",
    "\n",
    "como vimos anteriormente. Sin embargo, es algo tedioso crear las variables `w` y `b` manualmente, para esto tensorflow nos brinda la funcion `tf.layers.dense`."
   ]
  },
  {
   "cell_type": "code",
   "execution_count": null,
   "metadata": {
    "collapsed": true
   },
   "outputs": [],
   "source": [
    "x = tf.placeholder(tf.float64, [None, 4])\n",
    "h = tf.layers.dense(x, 2, activation=tf.nn.softmax)"
   ]
  },
  {
   "cell_type": "markdown",
   "metadata": {},
   "source": [
    "Aqui `f = tf.nn.softmax`, `x` un input de `4` dimensiones, y `y` es un tensor de `2` dimensiones. "
   ]
  },
  {
   "cell_type": "markdown",
   "metadata": {},
   "source": [
    "### Activation Functions\n",
    "Algunas funciones de activacion utiles son:\n",
    "\n",
    "* `None` si no pasamos funcion de activacion se utiliza identidad: $ f(x) = x$\n",
    "* `tf.nn.sigmoid`: utilizada para clasificacion binaria: $ f(x) = \\frac{1}{1 + exp(-x)} $\n",
    "* `tf.nn.softmax`: utiliada para clasificacion multi-clase: $f(x) = \\frac{exp(x)}{\\sum_{j}exp(x_j)} $\n",
    "\n",
    "### Loss Functions\n",
    "#### mean squared errror\n",
    "Si la funcion de la ultima capa es lineal, utilizamos `tf.nn.l2_loss` para medir el error"
   ]
  },
  {
   "cell_type": "code",
   "execution_count": null,
   "metadata": {
    "collapsed": true
   },
   "outputs": [],
   "source": [
    "#inputs\n",
    "x = tf.placeholder(tf.float64, [None, 4])\n",
    "y = tf.placeholder(tf.float64, [None, 2])\n",
    "\n",
    "h = tf.layers.dense(x, 2)\n",
    "\n",
    "loss = tf.nn.l2_loss(y - h)"
   ]
  },
  {
   "cell_type": "markdown",
   "metadata": {},
   "source": [
    "##### sigmoid cross entropy error\n",
    "Si la funcion de activacion de la ultima capa es `tf.nn.sigmoid`, utilizamos `tf.nn.sigmoid_cross_entropy_with_logits`. Notece que tiene que ser sobre lo logits ($ w x + b $) y no sobre `h`, aunque se podria calcular desde `h` existe una formula que es numericamente mas estable utilizando los logits."
   ]
  },
  {
   "cell_type": "code",
   "execution_count": null,
   "metadata": {
    "collapsed": true
   },
   "outputs": [],
   "source": [
    "x = tf.placeholder(tf.float64, [None, 4])\n",
    "logits = tf.layers.dense(x, 2)\n",
    "h = tf.nn.sigmoid(logits)\n",
    "\n",
    "loss = tf.nn.sigmoid_cross_entropy_with_logits(logits=logits, labels=y)"
   ]
  },
  {
   "cell_type": "markdown",
   "metadata": {},
   "source": [
    "##### softmax cross entropy error\n",
    "Si la funcion de activacion de la ultima capa es `tf.nn.softmax`, utilizamos `tf.nn.softmax_cross_entropy_with_logits`. Notece que tiene que ser sobre lo logits ($ w x + b $) y no sobre `h`, aunque se podria calcular desde `h` existe una formula que es numericamente mas estable utilizando los logits."
   ]
  },
  {
   "cell_type": "code",
   "execution_count": null,
   "metadata": {
    "collapsed": true
   },
   "outputs": [],
   "source": [
    "x = tf.placeholder(tf.float64, [None, 4])\n",
    "logits = tf.layers.dense(x, 2)\n",
    "h = tf.nn.softmax(logits)\n",
    "\n",
    "loss = tf.nn.softmax_cross_entropy_with_logits(logits=logits, labels=y)"
   ]
  },
  {
   "cell_type": "markdown",
   "metadata": {},
   "source": [
    "### Optimizers\n",
    "Los optimizers calculan los gradientes del `loss` con respecto a las `Variables` de la red y generan una rutina interna para actualizar estas a fin de minimizar el `loss`. Algunos optimizadores populares son:\n",
    "\n",
    "* `tf.train.GradientDescentOptimizer`: algortimo de gradiente descent puro.\n",
    "* `tf.train.AdamOptimizer`: https://arxiv.org/abs/1412.6980\n",
    "* `tf.train.AdadeltaOptimizer`: https://arxiv.org/abs/1212.5701\n",
    "* `tf.train.RMSPropOptimizer`: no publicado, creado por G. Hinton.\n",
    "* `tf.train.AdagradOptimizer`: http://jmlr.org/papers/v12/duchi11a.html\n",
    "\n",
    "Para mas info de los optimizadores, les recomiendo este excellente blog: http://sebastianruder.com/optimizing-gradient-descent/index.html. Todos los optimizadores reciben como parametro el `learning_rate`. Ejemplo"
   ]
  },
  {
   "cell_type": "code",
   "execution_count": null,
   "metadata": {
    "collapsed": true
   },
   "outputs": [],
   "source": [
    "trainer = tf.train.AdamOptimizer(0.01)"
   ]
  },
  {
   "cell_type": "markdown",
   "metadata": {},
   "source": [
    "Para crear la rutina del gradiente descent debemos utilizar el metodo `mimize(loss)` del trainer, esto nos devuelve un tensor que ejecuta la operacion de actualizar las variables."
   ]
  },
  {
   "cell_type": "code",
   "execution_count": null,
   "metadata": {},
   "outputs": [],
   "source": [
    "loss = tf.reduce_mean(loss)\n",
    "update = trainer.minimize(loss)"
   ]
  },
  {
   "cell_type": "markdown",
   "metadata": {},
   "source": [
    "### Gradiente Descent\n",
    "Para realizar gradient descent solo necesitamos correr el tensor `update` multiples veces pasandole los valores de **x** y **y** del dataset en el `feed_dict`. El siguiente ejemplo ilustra como realizar el procedimiento pero saca error debido a que no tenemos definidas las variables necesarias"
   ]
  },
  {
   "cell_type": "code",
   "execution_count": null,
   "metadata": {},
   "outputs": [],
   "source": [
    "import plotly.offline as py\n",
    "from plotly import graph_objs as go\n",
    "import numpy as np\n",
    "py.init_notebook_mode()\n",
    "\n",
    "n = 50\n",
    "\n",
    "x_data = np.random.uniform(low=0.0, high=100.0, size=(n, 4))\n",
    "w = np.asarray([[-0.2, 0.4, -0.7, 0.9],[0.13, 1.2, -1.7, 2.3]]).T\n",
    "y_data = np.dot(x_data, w) + np.random.normal(loc=0.0, scale=25.0, size=(n, 2))\n",
    "\n",
    "print(y_data.shape)\n",
    "\n",
    "#normalizar data\n",
    "x_data = (x_data - np.mean(x_data)) / np.average(x_data)\n",
    "y_data = (y_data - np.mean(y_data)) / np.average(y_data)\n",
    "\n",
    "with tf.Session() as sess:\n",
    "    sess.run(tf.global_variables_initializer())\n",
    "\n",
    "    for i in range(1000):\n",
    "        _, _loss = sess.run([update, loss], feed_dict={x: x_data, y: y_data})\n",
    "        print(_loss)"
   ]
  }
 ],
 "metadata": {
  "kernelspec": {
   "display_name": "Python 2",
   "language": "python",
   "name": "python2"
  },
  "language_info": {
   "codemirror_mode": {
    "name": "ipython",
    "version": 2
   },
   "file_extension": ".py",
   "mimetype": "text/x-python",
   "name": "python",
   "nbconvert_exporter": "python",
   "pygments_lexer": "ipython2",
   "version": "2.7.13"
  }
 },
 "nbformat": 4,
 "nbformat_minor": 2
}
